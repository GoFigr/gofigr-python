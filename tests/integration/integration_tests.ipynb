{
 "cells": [
  {
   "cell_type": "markdown",
   "id": "d139eda2",
   "metadata": {},
   "source": [
    "# Integration tests for the GoFigr Python client"
   ]
  },
  {
   "cell_type": "code",
   "execution_count": null,
   "id": "96d59382",
   "metadata": {},
   "outputs": [],
   "source": [
    "TEST_RESULTS = []"
   ]
  },
  {
   "cell_type": "code",
   "execution_count": null,
   "id": "328cdce6",
   "metadata": {},
   "outputs": [],
   "source": [
    "import json\n",
    "from platform import platform\n",
    "def sync():\n",
    "    with open(\"integration_test.json\", \"w\") as f:\n",
    "        json.dump({\n",
    "            'platform': platform(),\n",
    "            'results': TEST_RESULTS\n",
    "            }, f, indent=4)"
   ]
  },
  {
   "cell_type": "markdown",
   "id": "a1464470",
   "metadata": {},
   "source": [
    "# Load the extension and publish a figure from the same cell"
   ]
  },
  {
   "cell_type": "code",
   "execution_count": null,
   "id": "dd3612b1",
   "metadata": {},
   "outputs": [],
   "source": [
    "%load_ext gofigr\n",
    "from gofigr.jupyter import *\n",
    "import seaborn as sns\n",
    "import matplotlib.pyplot as plt\n",
    "import os\n",
    "\n",
    "from uuid import uuid4\n",
    "from gofigr.jupyter import _GF_EXTENSION as extension\n",
    "from gofigr.backends.matplotlib import MatplotlibBackend\n",
    "from gofigr.backends.plotly import PlotlyBackend\n",
    "\n",
    "sns.set_style(\"darkgrid\")\n",
    "sns.set_context(\"talk\") \n",
    "\n",
    "configure(workspace=None,\n",
    "          auto_publish=True,\n",
    "          analysis=FindByName(\"Integration tests\", create=True),\n",
    "          username=os.environ['GF_TEST_USER'],\n",
    "          password=os.environ['GF_TEST_PASSWORD'],\n",
    "          url=\"https://api-dev.gofigr.io\")\n",
    "\n",
    "gf = get_gofigr()\n",
    "\n",
    "# Try plotting in the same cell as configure(). auto_publish will break, but we should at least\n",
    "# get a warning\n",
    "fig_title1 = str(uuid4())\n",
    "plt.figure()\n",
    "plt.scatter(range(10), range(10))\n",
    "plt.title(fig_title1)"
   ]
  },
  {
   "cell_type": "code",
   "execution_count": null,
   "id": "97489d03",
   "metadata": {},
   "outputs": [],
   "source": [
    "shell = extension.shell"
   ]
  },
  {
   "cell_type": "code",
   "execution_count": null,
   "id": "2952c602",
   "metadata": {},
   "outputs": [],
   "source": [
    "from collections import defaultdict\n",
    "\n",
    "def check_text(txt, min_len=10):\n",
    "    return txt is not None and txt.strip() not in [\"N/A\", \"NA\"] and len(txt.strip()) >= min_len\n",
    "\n",
    "def check_figure(test_name, workspace, analysis_name, fig_name, expected_revisions=1):\n",
    "    res = defaultdict(lambda: True)\n",
    "    res[\"test_name\"] = test_name\n",
    "    res[\"error\"] = None\n",
    "    \n",
    "    try:    \n",
    "        ana = workspace.get_analysis(analysis_name, create=False)\n",
    "        fig = ana.get_figure(fig_name, create=False)\n",
    "\n",
    "        res[\"number_of_revisions\"] = len(fig.revisions) == expected_revisions\n",
    "\n",
    "        for rev in fig.revisions:\n",
    "            rev.fetch()\n",
    "            res[\"notebook_name\"] = res[\"notebook_name\"] and \\\n",
    "                check_text(rev.metadata[\"notebook_name\"])\n",
    "            res[\"notebook_path\"] = res[\"notebook_path\"] and \\\n",
    "                check_text(rev.metadata[\"notebook_path\"]) and os.path.exists(rev.metadata[\"notebook_path\"])\n",
    "            res[\"cell_id\"] = res[\"cell_id\"] and check_text(rev.metadata[\"cell_id\"], min_len=5)\n",
    "            \n",
    "            for img in rev.image_data:\n",
    "                image_key = f\"image_{img.format}\" + (\"_watermark\" if img.is_watermarked else \"\")\n",
    "                res[image_key] = res[image_key] and len(img.data) > 1000\n",
    "\n",
    "            for code in rev.code_data:\n",
    "                txt = code.contents.strip()\n",
    "                res[\"cell_code\"] = res[\"cell_code\"] and check_text(txt)\n",
    "                \n",
    "            for td in rev.text_data:\n",
    "                txt = td.contents.strip()\n",
    "                res['text'] = res[\"text\"] and check_text(txt)\n",
    "                \n",
    "    except Exception as e:\n",
    "        res[\"error\"] = str(e)\n",
    "            \n",
    "    return dict(res.items())\n",
    "\n",
    "TEST_RESULTS.append(check_figure(\"Configure and publish in one cell\", gf.primary_workspace, \"Integration tests\", fig_title1))\n",
    "sync()"
   ]
  },
  {
   "cell_type": "markdown",
   "id": "700c4b24",
   "metadata": {},
   "source": [
    "# Anonymous figure"
   ]
  },
  {
   "cell_type": "code",
   "execution_count": null,
   "id": "e4ca5c82",
   "metadata": {},
   "outputs": [],
   "source": [
    "plt.scatter(x=range(10), y=range(10))"
   ]
  },
  {
   "cell_type": "code",
   "execution_count": null,
   "id": "040389f5",
   "metadata": {},
   "outputs": [],
   "source": [
    "TEST_RESULTS.append(check_figure(\"Anonymous figure\", gf.primary_workspace, \"Integration tests\", \"Anonymous Figure\"))\n",
    "sync()"
   ]
  },
  {
   "cell_type": "markdown",
   "id": "df5aa713",
   "metadata": {},
   "source": [
    "# Manual call to publish"
   ]
  },
  {
   "cell_type": "code",
   "execution_count": null,
   "id": "5d401c8e-d50e-40e7-8a70-a99f6db4e227",
   "metadata": {
    "tags": []
   },
   "outputs": [],
   "source": [
    "iris = sns.load_dataset(\"iris\")\n",
    "\n",
    "title2 = str(uuid4())\n",
    "\n",
    "plt.figure(figsize=(6, 6))\n",
    "sns.scatterplot(data=iris, \n",
    "                x=\"sepal_length\", \n",
    "                y=\"petal_length\", \n",
    "                hue=\"species\", \n",
    "                palette=\"tab10\")\n",
    "plt.title(title2)\n",
    "\n",
    "publish(target=FindByName(title2, create=True),\n",
    "        dataframes={\"IRIS\": iris})"
   ]
  },
  {
   "cell_type": "code",
   "execution_count": null,
   "id": "90a11eb6",
   "metadata": {},
   "outputs": [],
   "source": [
    "TEST_RESULTS.append(check_figure(\"Manual publish\", gf.primary_workspace, \"Integration tests\", title2))\n",
    "sync()"
   ]
  },
  {
   "cell_type": "markdown",
   "id": "3fa3606e",
   "metadata": {},
   "source": [
    "# Auto publish"
   ]
  },
  {
   "cell_type": "code",
   "execution_count": null,
   "id": "45c579cb",
   "metadata": {},
   "outputs": [],
   "source": [
    "iris = sns.load_dataset(\"iris\")\n",
    "\n",
    "title3 = str(uuid4())\n",
    "plt.figure(figsize=(6, 6))\n",
    "sns.scatterplot(data=iris, \n",
    "                x=\"sepal_length\", \n",
    "                y=\"petal_length\", \n",
    "                hue=\"species\", \n",
    "                palette=\"tab10\")\n",
    "plt.title(title3)"
   ]
  },
  {
   "cell_type": "code",
   "execution_count": null,
   "id": "9c37a7fa",
   "metadata": {},
   "outputs": [],
   "source": [
    "TEST_RESULTS.append(check_figure(\"Auto publish\", gf.primary_workspace, \"Integration tests\", title3))\n",
    "sync()"
   ]
  },
  {
   "cell_type": "markdown",
   "id": "a1ce67c4",
   "metadata": {},
   "source": [
    "# Add revision"
   ]
  },
  {
   "cell_type": "code",
   "execution_count": null,
   "id": "086cd47b",
   "metadata": {},
   "outputs": [],
   "source": [
    "# Add a new revision to the same figure\n",
    "plt.figure(figsize=(6, 6))\n",
    "sns.scatterplot(data=iris, \n",
    "                x=\"sepal_length\", \n",
    "                y=\"petal_length\", \n",
    "                hue=\"species\", \n",
    "                palette=\"tab10\")\n",
    "plt.title(title3)"
   ]
  },
  {
   "cell_type": "code",
   "execution_count": null,
   "id": "2f115331",
   "metadata": {},
   "outputs": [],
   "source": [
    "TEST_RESULTS.append(check_figure(\"Auto-publish second revision\", gf.primary_workspace, \"Integration tests\", title3,\n",
    "                                expected_revisions=2))\n",
    "sync()"
   ]
  },
  {
   "cell_type": "markdown",
   "id": "a63fa87f",
   "metadata": {},
   "source": [
    "# Inline backend"
   ]
  },
  {
   "cell_type": "code",
   "execution_count": null,
   "id": "6077c968",
   "metadata": {},
   "outputs": [],
   "source": [
    "%matplotlib inline\n",
    "%config InlineBackend.figure_format=\"retina\"\n",
    "\n",
    "title4 = str(uuid4())\n",
    "plt.figure()\n",
    "plt.scatter(range(10), range(10))\n",
    "plt.title(title4)"
   ]
  },
  {
   "cell_type": "code",
   "execution_count": null,
   "id": "500c26f5",
   "metadata": {},
   "outputs": [],
   "source": [
    "TEST_RESULTS.append(check_figure(\"MPL inline backend\", gf.primary_workspace, \"Integration tests\", title4))\n",
    "sync()"
   ]
  },
  {
   "cell_type": "markdown",
   "id": "0c960bd7",
   "metadata": {},
   "source": [
    "# Mix-and-match manual and auto publish"
   ]
  },
  {
   "cell_type": "code",
   "execution_count": null,
   "id": "df59eaa1",
   "metadata": {},
   "outputs": [],
   "source": [
    "title5 = str(uuid4())\n",
    "plt.figure(figsize=(6, 6))\n",
    "sns.scatterplot(data=iris, \n",
    "                x=\"sepal_length\", \n",
    "                y=\"petal_length\", \n",
    "                hue=\"species\", \n",
    "                palette=\"tab10\")\n",
    "plt.title(title5)\n",
    "publish()\n",
    "\n",
    "plt.figure(figsize=(4, 4))\n",
    "sns.scatterplot(data=iris, \n",
    "                x=\"sepal_length\", \n",
    "                y=\"petal_length\", \n",
    "                hue=\"species\", \n",
    "                palette=\"Set1\")\n",
    "plt.title(title5)"
   ]
  },
  {
   "cell_type": "code",
   "execution_count": null,
   "id": "dea59a52",
   "metadata": {},
   "outputs": [],
   "source": [
    "TEST_RESULTS.append(check_figure(\"Mix manual and auto-publish\", gf.primary_workspace, \"Integration tests\", title5, expected_revisions=2))\n",
    "sync()"
   ]
  },
  {
   "cell_type": "markdown",
   "id": "89c2c622",
   "metadata": {},
   "source": [
    "# Subplots"
   ]
  },
  {
   "cell_type": "code",
   "execution_count": null,
   "id": "256e11e8",
   "metadata": {},
   "outputs": [],
   "source": [
    "import numpy as np\n",
    "\n",
    "title6 = str(uuid4())\n",
    "fig, ax = plt.subplots(nrows=2, ncols=2)\n",
    "ax = np.ravel(ax)\n",
    "\n",
    "for idx, axis in enumerate(ax):\n",
    "    axis.scatter(x=np.random.normal(loc=idx, size=100), y=np.random.normal(loc=idx, size=100))\n",
    "\n",
    "fig.suptitle(title6)"
   ]
  },
  {
   "cell_type": "code",
   "execution_count": null,
   "id": "6fd68403",
   "metadata": {},
   "outputs": [],
   "source": [
    "TEST_RESULTS.append(check_figure(\"Subplots\", gf.primary_workspace, \"Integration tests\", title6, expected_revisions=1))\n",
    "sync()"
   ]
  },
  {
   "cell_type": "markdown",
   "id": "5c92aed4",
   "metadata": {},
   "source": [
    "# Plotly"
   ]
  },
  {
   "cell_type": "markdown",
   "id": "9552e6a3",
   "metadata": {},
   "source": [
    "## Static figure"
   ]
  },
  {
   "cell_type": "code",
   "execution_count": null,
   "id": "923b486b",
   "metadata": {},
   "outputs": [],
   "source": [
    "import plotly\n",
    "plotly.io.kaleido.scope.default_width = 800\n",
    "plotly.io.kaleido.scope.default_height = 600"
   ]
  },
  {
   "cell_type": "code",
   "execution_count": null,
   "id": "d6b3bd68",
   "metadata": {},
   "outputs": [],
   "source": [
    "import plotly.graph_objects as go\n",
    "import numpy as np\n",
    "np.random.seed(1)\n",
    "\n",
    "title7 = str(uuid4())\n",
    "\n",
    "N = 100\n",
    "x = np.random.rand(N)\n",
    "y = np.random.rand(N)\n",
    "colors = np.random.rand(N)\n",
    "sz = np.random.rand(N) * 30\n",
    "\n",
    "fig = go.Figure()\n",
    "fig.add_trace(go.Scatter(\n",
    "    x=x,\n",
    "    y=y,\n",
    "    mode=\"markers\",\n",
    "    marker=go.scatter.Marker(\n",
    "        size=sz,\n",
    "        color=colors,\n",
    "        opacity=0.6,\n",
    "        colorscale=\"Viridis\"\n",
    "    )))\n",
    "fig.update_layout(title=title7)\n",
    "\n",
    "fig.show()\n",
    "\n",
    "publish(fig=fig, image_options={'width': 800, 'height': 600})\n",
    "publish(fig=fig, image_options={'width': 1000, 'height': 800})"
   ]
  },
  {
   "cell_type": "code",
   "execution_count": null,
   "id": "af8af0f8",
   "metadata": {},
   "outputs": [],
   "source": [
    "TEST_RESULTS.append(check_figure(\"Plotly - manual publish\", gf.primary_workspace, \"Integration tests\", title7, expected_revisions=3))\n",
    "sync()"
   ]
  },
  {
   "cell_type": "markdown",
   "id": "83703b74",
   "metadata": {},
   "source": [
    "## Plotly -- autopublish"
   ]
  },
  {
   "cell_type": "code",
   "execution_count": null,
   "id": "655cf429",
   "metadata": {},
   "outputs": [],
   "source": [
    "import plotly.express as px\n",
    "\n",
    "title8 = str(uuid4())\n",
    "df = px.data.iris()\n",
    "fig = px.scatter(df, x=\"sepal_length\", y=\"sepal_width\", color=\"species\",\n",
    "                title=title8)\n",
    "fig.show()"
   ]
  },
  {
   "cell_type": "code",
   "execution_count": null,
   "id": "2bd6600c",
   "metadata": {},
   "outputs": [],
   "source": [
    "TEST_RESULTS.append(check_figure(\"Plotly - autopublish\", gf.primary_workspace, \"Integration tests\", title8, expected_revisions=1))\n",
    "sync()"
   ]
  },
  {
   "cell_type": "markdown",
   "id": "45fa1d8a",
   "metadata": {},
   "source": [
    "# Save results"
   ]
  },
  {
   "cell_type": "code",
   "execution_count": null,
   "id": "8d07b864",
   "metadata": {
    "scrolled": true
   },
   "outputs": [],
   "source": [
    "import pandas as pd\n",
    "pd.DataFrame(TEST_RESULTS)"
   ]
  },
  {
   "cell_type": "code",
   "execution_count": null,
   "id": "99d6608a",
   "metadata": {},
   "outputs": [],
   "source": [
    "with open(\"integration_test.json.done\", \"w\") as f:\n",
    "    f.write(\"done\\n\")"
   ]
  },
  {
   "cell_type": "code",
   "execution_count": null,
   "id": "7b43c78b",
   "metadata": {},
   "outputs": [],
   "source": [
    "!pwd"
   ]
  }
 ],
 "metadata": {
  "kernelspec": {
   "display_name": "Python 3 (ipykernel)",
   "language": "python",
   "name": "python3"
  },
  "language_info": {
   "codemirror_mode": {
    "name": "ipython",
    "version": 3
   },
   "file_extension": ".py",
   "mimetype": "text/x-python",
   "name": "python",
   "nbconvert_exporter": "python",
   "pygments_lexer": "ipython3",
   "version": "3.11.4"
  }
 },
 "nbformat": 4,
 "nbformat_minor": 5
}
